{
 "cells": [
  {
   "cell_type": "markdown",
   "metadata": {},
   "source": [
    "# DSI Instructor Task: Part 2\n",
    "\n",
    "Student Samples: https://gist.github.com/jeff-boykin/3af5e25eabd6c10d8aa248c556f625a0\n",
    "\n",
    "Code\n",
    "- Feel free to comment on style, library usage, or other improvements.\n",
    "\n",
    "Methodology\n",
    "- Feel free to comment on the student's data setup, modeling methodology, and model evaluation.\n",
    "\n",
    "Conceptual Understanding\n",
    "- Finally, feel free to add any suggestions or takeaways on how the student could continue to improve their understanding of these concepts."
   ]
  },
  {
   "cell_type": "markdown",
   "metadata": {},
   "source": [
    "**Student 1**\n",
    "\n",
    "*Code*\n",
    "\n",
    "It's possible to follow the logical steps in the code, but I recommend to use pep-8 convention to improve readability, even when the code sample is small. There are some notes on that:\n",
    "- Imports should be at the top of the module (lines 20,21)\n",
    "- Avoid redundant imports (line 4: not used, lines: 6, 20 - dublicated)\n",
    "- Use sensible names:\n",
    "    - `x1`, `x2`: it's not clear which one is input features and which is target values. \n",
    "    - Using single-letter names often cause an error, therefore even the student made one (line 9: `data` instead of `d`)\n",
    "\n",
    "The module `sklearn` doesn't contain  `LinearRegression`, but the child module (`linear_model`) does. \n",
    "\n",
    "So the programm won't run without the correct import.\n",
    "\n",
    "*Methodology*\n",
    "\n",
    "According to the naming of data columns, I assume the data are already preprocessed, however they may contain NaN values.\n",
    "\n",
    "The function argument cv=1 (line 22) disables cross-validation.\n",
    "\n",
    "\n",
    "*Conceptual Understanding*\n",
    "\n",
    "I recommend to dive deeper into following topics:\n",
    "- Python coding standarts (pep-8) \n",
    "- Concept of cross-validation\n",
    "And test the code before sending, if it's possible."
   ]
  },
  {
   "cell_type": "markdown",
   "metadata": {},
   "source": [
    "**Student 2**\n",
    "\n",
    "*Code*\n",
    "\n",
    "- Import of unnecessary libraries (line 4)\n",
    "- Variable names should be lowercased (line 14), but it can be okay in this case (because it's a matrix).\n",
    "\n",
    "\n",
    "*Methodology*\n",
    "\n",
    "There is no information if the data were preprocessed or not.\n",
    "\n",
    "\n",
    "*Conceptual Understanding*\n",
    "\n",
    "The code looks good. I suggest to learn pep-8 for improving code readability and consistency."
   ]
  },
  {
   "cell_type": "code",
   "execution_count": null,
   "metadata": {},
   "outputs": [],
   "source": []
  }
 ],
 "metadata": {
  "kernelspec": {
   "display_name": "Python 3",
   "language": "python",
   "name": "python3"
  },
  "language_info": {
   "codemirror_mode": {
    "name": "ipython",
    "version": 3
   },
   "file_extension": ".py",
   "mimetype": "text/x-python",
   "name": "python",
   "nbconvert_exporter": "python",
   "pygments_lexer": "ipython3",
   "version": "3.6.9"
  },
  "toc": {
   "base_numbering": 1,
   "nav_menu": {},
   "number_sections": true,
   "sideBar": true,
   "skip_h1_title": false,
   "title_cell": "Table of Contents",
   "title_sidebar": "Contents",
   "toc_cell": false,
   "toc_position": {
    "height": "calc(100% - 180px)",
    "left": "10px",
    "top": "150px",
    "width": "296.475px"
   },
   "toc_section_display": true,
   "toc_window_display": false
  }
 },
 "nbformat": 4,
 "nbformat_minor": 4
}
