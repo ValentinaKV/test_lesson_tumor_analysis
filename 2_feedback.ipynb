{
 "cells": [
  {
   "cell_type": "markdown",
   "metadata": {},
   "source": [
    "# DSI Instructor Task: Part 2\n",
    "\n",
    "Student Samples: https://gist.github.com/jeff-boykin/3af5e25eabd6c10d8aa248c556f625a0\n",
    "\n",
    "Code\n",
    "- Feel free to comment on style, library usage, or other improvements.\n",
    "\n",
    "Methodology\n",
    "- Feel free to comment on the student's data setup, modeling methodology, and model evaluation.\n",
    "\n",
    "Conceptual Understanding\n",
    "- Finally, feel free to add any suggestions or takeaways on how the student could continue to improve their understanding of these concepts."
   ]
  },
  {
   "cell_type": "markdown",
   "metadata": {},
   "source": [
    "\n",
    "Student 1\n",
    "- Imports are always put at the top of the file\n",
    "- Importing unnecessary libraries\n",
    "- Wrong import of LinearRegression (should be: from sklearn.linear_model import LinearRegression)\n",
    "- Wrong import of cross_val_score() (should be: from sklearn.model_selection import cross_val_score)\n",
    "- Variable names don't make sense\n",
    "- Using different name for the loaded file (d->data)\n",
    "- Wrong order of parameters in cross_val_score (x1<->x2)\n",
    "- 'mean_absolute_error' is not a valid scoring value\n",
    "- Using cv=1 in cross_val_score() doesn't make sense\n",
    "- Should be more attentive and learn more about naming and other standarts in Python, using methods and its parameters, concepts of crossvalidation\n",
    "\n",
    "Student 2\n",
    "- Importing unnecessary libraries\n",
    "- Wrong import of cross_val_score() (should be: from sklearn.model_selection import cross_val_score)\n",
    "- Variable names should be lowercase\n",
    "- 'mean_absolute_error' can't be set as scoring value\n",
    "- Should be also more attentive and learn more about naming and other standarts in Python\n"
   ]
  }
 ],
 "metadata": {
  "kernelspec": {
   "display_name": "Python 3",
   "language": "python",
   "name": "python3"
  },
  "language_info": {
   "codemirror_mode": {
    "name": "ipython",
    "version": 3
   },
   "file_extension": ".py",
   "mimetype": "text/x-python",
   "name": "python",
   "nbconvert_exporter": "python",
   "pygments_lexer": "ipython3",
   "version": "3.6.9"
  },
  "toc": {
   "base_numbering": 1,
   "nav_menu": {},
   "number_sections": true,
   "sideBar": true,
   "skip_h1_title": false,
   "title_cell": "Table of Contents",
   "title_sidebar": "Contents",
   "toc_cell": false,
   "toc_position": {
    "height": "calc(100% - 180px)",
    "left": "10px",
    "top": "150px",
    "width": "296.475px"
   },
   "toc_section_display": true,
   "toc_window_display": true
  }
 },
 "nbformat": 4,
 "nbformat_minor": 4
}
