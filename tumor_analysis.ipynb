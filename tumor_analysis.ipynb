{
 "cells": [
  {
   "cell_type": "markdown",
   "metadata": {},
   "source": [
    "# Python Coding and Data Set"
   ]
  },
  {
   "cell_type": "markdown",
   "metadata": {},
   "source": [
    "Let's suppose you are a data scientist in a hospital and you want to detect breast cancer cells.\n",
    "\n",
    "Usually the data is stored in a Data Base (DB), sometimes you collect the data yourself and you decide how to store the data. Today we will read data provided by @jeff-boykin. There are two files: one contains data and another has headers. To load the dataset folow the link https://gist.github.com/jeff-boykin/b5c536467c30d66ab97cd1f5c9a3497d\n",
    "\n",
    "Tasks:\n",
    "- Load in the data file and header file provided\n",
    "- The dataframe does not currently have a header, load in the header file and attach it to the dataframe\n",
    "- Comment on any steps you might take to evaluate or transform the dataset.\n",
    "- Compute the mean and median smoothness and compactness for benign and malignant tumors - do they differ? Explain how you would identify this.\n",
    "- Write a function to generate bootstrap samples of the data."
   ]
  },
  {
   "cell_type": "markdown",
   "metadata": {},
   "source": [
    "First, we're going to load some python libraries"
   ]
  },
  {
   "cell_type": "code",
   "execution_count": 1,
   "metadata": {},
   "outputs": [],
   "source": [
    "import pandas as pd\n",
    "import numpy as np\n",
    "import matplotlib.pyplot as plt"
   ]
  },
  {
   "cell_type": "markdown",
   "metadata": {},
   "source": [
    "The files below you can find in the data folder as breast-cancer.csv and field_names.txt respectively (the source link is above). The format of data is CSV - Comma/Character Separated Value, and that means all the values represented as text and separated by a comma or another character. We can write a function to read the .csv files, but I suggest you to use a library function read_csv from pandas instead. Also this function allows to load the txt format.\n",
    "    \n",
    "As we know how our data looks like, let's load the headers first and then load the data with the headers as the names parameter."
   ]
  },
  {
   "cell_type": "code",
   "execution_count": 2,
   "metadata": {},
   "outputs": [
    {
     "data": {
      "text/html": [
       "<div>\n",
       "<style scoped>\n",
       "    .dataframe tbody tr th:only-of-type {\n",
       "        vertical-align: middle;\n",
       "    }\n",
       "\n",
       "    .dataframe tbody tr th {\n",
       "        vertical-align: top;\n",
       "    }\n",
       "\n",
       "    .dataframe thead th {\n",
       "        text-align: right;\n",
       "    }\n",
       "</style>\n",
       "<table border=\"1\" class=\"dataframe\">\n",
       "  <thead>\n",
       "    <tr style=\"text-align: right;\">\n",
       "      <th></th>\n",
       "      <th>ID</th>\n",
       "      <th>diagnosis</th>\n",
       "      <th>radius_mean</th>\n",
       "      <th>radius_sd_error</th>\n",
       "      <th>radius_worst</th>\n",
       "      <th>texture_mean</th>\n",
       "      <th>texture_sd_error</th>\n",
       "      <th>texture_worst</th>\n",
       "      <th>perimeter_mean</th>\n",
       "      <th>perimeter_sd_error</th>\n",
       "      <th>...</th>\n",
       "      <th>concavity_worst</th>\n",
       "      <th>concave_points_mean</th>\n",
       "      <th>concave_points_sd_error</th>\n",
       "      <th>concave_points_worst</th>\n",
       "      <th>symmetry_mean</th>\n",
       "      <th>symmetry_sd_error</th>\n",
       "      <th>symmetry_worst</th>\n",
       "      <th>fractal_dimension_mean</th>\n",
       "      <th>fractal_dimension_sd_error</th>\n",
       "      <th>fractal_dimension_worst</th>\n",
       "    </tr>\n",
       "  </thead>\n",
       "  <tbody>\n",
       "    <tr>\n",
       "      <th>0</th>\n",
       "      <td>842302</td>\n",
       "      <td>M</td>\n",
       "      <td>17.99</td>\n",
       "      <td>10.38</td>\n",
       "      <td>122.8</td>\n",
       "      <td>1001.0</td>\n",
       "      <td>0.11840</td>\n",
       "      <td>0.27760</td>\n",
       "      <td>0.3001</td>\n",
       "      <td>0.14710</td>\n",
       "      <td>...</td>\n",
       "      <td>25.38</td>\n",
       "      <td>17.33</td>\n",
       "      <td>184.6</td>\n",
       "      <td>2019.0</td>\n",
       "      <td>0.1622</td>\n",
       "      <td>0.6656</td>\n",
       "      <td>0.7119</td>\n",
       "      <td>0.2654</td>\n",
       "      <td>0.4601</td>\n",
       "      <td>0.11890</td>\n",
       "    </tr>\n",
       "    <tr>\n",
       "      <th>1</th>\n",
       "      <td>842517</td>\n",
       "      <td>M</td>\n",
       "      <td>20.57</td>\n",
       "      <td>17.77</td>\n",
       "      <td>132.9</td>\n",
       "      <td>1326.0</td>\n",
       "      <td>0.08474</td>\n",
       "      <td>0.07864</td>\n",
       "      <td>0.0869</td>\n",
       "      <td>0.07017</td>\n",
       "      <td>...</td>\n",
       "      <td>24.99</td>\n",
       "      <td>23.41</td>\n",
       "      <td>158.8</td>\n",
       "      <td>1956.0</td>\n",
       "      <td>0.1238</td>\n",
       "      <td>0.1866</td>\n",
       "      <td>0.2416</td>\n",
       "      <td>0.1860</td>\n",
       "      <td>0.2750</td>\n",
       "      <td>0.08902</td>\n",
       "    </tr>\n",
       "  </tbody>\n",
       "</table>\n",
       "<p>2 rows × 32 columns</p>\n",
       "</div>"
      ],
      "text/plain": [
       "       ID diagnosis  radius_mean  radius_sd_error  radius_worst  texture_mean  \\\n",
       "0  842302         M        17.99            10.38         122.8        1001.0   \n",
       "1  842517         M        20.57            17.77         132.9        1326.0   \n",
       "\n",
       "   texture_sd_error  texture_worst  perimeter_mean  perimeter_sd_error  ...  \\\n",
       "0           0.11840        0.27760          0.3001             0.14710  ...   \n",
       "1           0.08474        0.07864          0.0869             0.07017  ...   \n",
       "\n",
       "   concavity_worst  concave_points_mean  concave_points_sd_error  \\\n",
       "0            25.38                17.33                    184.6   \n",
       "1            24.99                23.41                    158.8   \n",
       "\n",
       "   concave_points_worst  symmetry_mean  symmetry_sd_error  symmetry_worst  \\\n",
       "0                2019.0         0.1622             0.6656          0.7119   \n",
       "1                1956.0         0.1238             0.1866          0.2416   \n",
       "\n",
       "   fractal_dimension_mean  fractal_dimension_sd_error  fractal_dimension_worst  \n",
       "0                  0.2654                      0.4601                  0.11890  \n",
       "1                  0.1860                      0.2750                  0.08902  \n",
       "\n",
       "[2 rows x 32 columns]"
      ]
     },
     "metadata": {},
     "output_type": "display_data"
    },
    {
     "name": "stdout",
     "output_type": "stream",
     "text": [
      "<class 'pandas.core.frame.DataFrame'>\n",
      "RangeIndex: 569 entries, 0 to 568\n",
      "Data columns (total 32 columns):\n",
      " #   Column                      Non-Null Count  Dtype  \n",
      "---  ------                      --------------  -----  \n",
      " 0   ID                          569 non-null    int64  \n",
      " 1   diagnosis                   569 non-null    object \n",
      " 2   radius_mean                 569 non-null    float64\n",
      " 3   radius_sd_error             569 non-null    float64\n",
      " 4   radius_worst                569 non-null    float64\n",
      " 5   texture_mean                569 non-null    float64\n",
      " 6   texture_sd_error            569 non-null    float64\n",
      " 7   texture_worst               569 non-null    float64\n",
      " 8   perimeter_mean              569 non-null    float64\n",
      " 9   perimeter_sd_error          569 non-null    float64\n",
      " 10  perimeter_worst             569 non-null    float64\n",
      " 11  area_mean                   569 non-null    float64\n",
      " 12  area_sd_error               569 non-null    float64\n",
      " 13  area_worst                  569 non-null    float64\n",
      " 14  smoothness_mean             569 non-null    float64\n",
      " 15  smoothness_sd_error         569 non-null    float64\n",
      " 16  smoothness_worst            569 non-null    float64\n",
      " 17  compactness_mean            569 non-null    float64\n",
      " 18  compactness_sd_error        569 non-null    float64\n",
      " 19  compactness_worst           569 non-null    float64\n",
      " 20  concavity_mean              569 non-null    float64\n",
      " 21  concavity_sd_error          569 non-null    float64\n",
      " 22  concavity_worst             569 non-null    float64\n",
      " 23  concave_points_mean         569 non-null    float64\n",
      " 24  concave_points_sd_error     569 non-null    float64\n",
      " 25  concave_points_worst        569 non-null    float64\n",
      " 26  symmetry_mean               569 non-null    float64\n",
      " 27  symmetry_sd_error           569 non-null    float64\n",
      " 28  symmetry_worst              569 non-null    float64\n",
      " 29  fractal_dimension_mean      569 non-null    float64\n",
      " 30  fractal_dimension_sd_error  569 non-null    float64\n",
      " 31  fractal_dimension_worst     569 non-null    float64\n",
      "dtypes: float64(30), int64(1), object(1)\n",
      "memory usage: 142.4+ KB\n"
     ]
    }
   ],
   "source": [
    "headers = pd.read_csv('data/field_names.txt', header=None)\n",
    "data = pd.read_csv('data/breast-cancer.csv', names=headers.values[:,0])\n",
    "display(data.head(2))\n",
    "data.info()"
   ]
  },
  {
   "cell_type": "markdown",
   "metadata": {},
   "source": [
    "As we can see there is a dataset containing 32 columns and 569 not-null rows."
   ]
  },
  {
   "cell_type": "code",
   "execution_count": 3,
   "metadata": {},
   "outputs": [
    {
     "data": {
      "text/html": [
       "<div>\n",
       "<style scoped>\n",
       "    .dataframe tbody tr th:only-of-type {\n",
       "        vertical-align: middle;\n",
       "    }\n",
       "\n",
       "    .dataframe tbody tr th {\n",
       "        vertical-align: top;\n",
       "    }\n",
       "\n",
       "    .dataframe thead th {\n",
       "        text-align: right;\n",
       "    }\n",
       "</style>\n",
       "<table border=\"1\" class=\"dataframe\">\n",
       "  <thead>\n",
       "    <tr style=\"text-align: right;\">\n",
       "      <th></th>\n",
       "      <th>ID</th>\n",
       "      <th>radius_mean</th>\n",
       "      <th>radius_sd_error</th>\n",
       "      <th>radius_worst</th>\n",
       "      <th>texture_mean</th>\n",
       "      <th>texture_sd_error</th>\n",
       "      <th>texture_worst</th>\n",
       "      <th>perimeter_mean</th>\n",
       "      <th>perimeter_sd_error</th>\n",
       "      <th>perimeter_worst</th>\n",
       "      <th>...</th>\n",
       "      <th>concavity_worst</th>\n",
       "      <th>concave_points_mean</th>\n",
       "      <th>concave_points_sd_error</th>\n",
       "      <th>concave_points_worst</th>\n",
       "      <th>symmetry_mean</th>\n",
       "      <th>symmetry_sd_error</th>\n",
       "      <th>symmetry_worst</th>\n",
       "      <th>fractal_dimension_mean</th>\n",
       "      <th>fractal_dimension_sd_error</th>\n",
       "      <th>fractal_dimension_worst</th>\n",
       "    </tr>\n",
       "  </thead>\n",
       "  <tbody>\n",
       "    <tr>\n",
       "      <th>count</th>\n",
       "      <td>5.690000e+02</td>\n",
       "      <td>569.000000</td>\n",
       "      <td>569.000000</td>\n",
       "      <td>569.000000</td>\n",
       "      <td>569.000000</td>\n",
       "      <td>569.000000</td>\n",
       "      <td>569.000000</td>\n",
       "      <td>569.000000</td>\n",
       "      <td>569.000000</td>\n",
       "      <td>569.000000</td>\n",
       "      <td>...</td>\n",
       "      <td>569.000000</td>\n",
       "      <td>569.000000</td>\n",
       "      <td>569.000000</td>\n",
       "      <td>569.000000</td>\n",
       "      <td>569.000000</td>\n",
       "      <td>569.000000</td>\n",
       "      <td>569.000000</td>\n",
       "      <td>569.000000</td>\n",
       "      <td>569.000000</td>\n",
       "      <td>569.000000</td>\n",
       "    </tr>\n",
       "    <tr>\n",
       "      <th>mean</th>\n",
       "      <td>3.037183e+07</td>\n",
       "      <td>14.127292</td>\n",
       "      <td>19.289649</td>\n",
       "      <td>91.969033</td>\n",
       "      <td>654.889104</td>\n",
       "      <td>0.096360</td>\n",
       "      <td>0.104341</td>\n",
       "      <td>0.088799</td>\n",
       "      <td>0.048919</td>\n",
       "      <td>0.181162</td>\n",
       "      <td>...</td>\n",
       "      <td>16.269190</td>\n",
       "      <td>25.677223</td>\n",
       "      <td>107.261213</td>\n",
       "      <td>880.583128</td>\n",
       "      <td>0.132369</td>\n",
       "      <td>0.254265</td>\n",
       "      <td>0.272188</td>\n",
       "      <td>0.114606</td>\n",
       "      <td>0.290076</td>\n",
       "      <td>0.083946</td>\n",
       "    </tr>\n",
       "    <tr>\n",
       "      <th>std</th>\n",
       "      <td>1.250206e+08</td>\n",
       "      <td>3.524049</td>\n",
       "      <td>4.301036</td>\n",
       "      <td>24.298981</td>\n",
       "      <td>351.914129</td>\n",
       "      <td>0.014064</td>\n",
       "      <td>0.052813</td>\n",
       "      <td>0.079720</td>\n",
       "      <td>0.038803</td>\n",
       "      <td>0.027414</td>\n",
       "      <td>...</td>\n",
       "      <td>4.833242</td>\n",
       "      <td>6.146258</td>\n",
       "      <td>33.602542</td>\n",
       "      <td>569.356993</td>\n",
       "      <td>0.022832</td>\n",
       "      <td>0.157336</td>\n",
       "      <td>0.208624</td>\n",
       "      <td>0.065732</td>\n",
       "      <td>0.061867</td>\n",
       "      <td>0.018061</td>\n",
       "    </tr>\n",
       "    <tr>\n",
       "      <th>min</th>\n",
       "      <td>8.670000e+03</td>\n",
       "      <td>6.981000</td>\n",
       "      <td>9.710000</td>\n",
       "      <td>43.790000</td>\n",
       "      <td>143.500000</td>\n",
       "      <td>0.052630</td>\n",
       "      <td>0.019380</td>\n",
       "      <td>0.000000</td>\n",
       "      <td>0.000000</td>\n",
       "      <td>0.106000</td>\n",
       "      <td>...</td>\n",
       "      <td>7.930000</td>\n",
       "      <td>12.020000</td>\n",
       "      <td>50.410000</td>\n",
       "      <td>185.200000</td>\n",
       "      <td>0.071170</td>\n",
       "      <td>0.027290</td>\n",
       "      <td>0.000000</td>\n",
       "      <td>0.000000</td>\n",
       "      <td>0.156500</td>\n",
       "      <td>0.055040</td>\n",
       "    </tr>\n",
       "    <tr>\n",
       "      <th>25%</th>\n",
       "      <td>8.692180e+05</td>\n",
       "      <td>11.700000</td>\n",
       "      <td>16.170000</td>\n",
       "      <td>75.170000</td>\n",
       "      <td>420.300000</td>\n",
       "      <td>0.086370</td>\n",
       "      <td>0.064920</td>\n",
       "      <td>0.029560</td>\n",
       "      <td>0.020310</td>\n",
       "      <td>0.161900</td>\n",
       "      <td>...</td>\n",
       "      <td>13.010000</td>\n",
       "      <td>21.080000</td>\n",
       "      <td>84.110000</td>\n",
       "      <td>515.300000</td>\n",
       "      <td>0.116600</td>\n",
       "      <td>0.147200</td>\n",
       "      <td>0.114500</td>\n",
       "      <td>0.064930</td>\n",
       "      <td>0.250400</td>\n",
       "      <td>0.071460</td>\n",
       "    </tr>\n",
       "    <tr>\n",
       "      <th>50%</th>\n",
       "      <td>9.060240e+05</td>\n",
       "      <td>13.370000</td>\n",
       "      <td>18.840000</td>\n",
       "      <td>86.240000</td>\n",
       "      <td>551.100000</td>\n",
       "      <td>0.095870</td>\n",
       "      <td>0.092630</td>\n",
       "      <td>0.061540</td>\n",
       "      <td>0.033500</td>\n",
       "      <td>0.179200</td>\n",
       "      <td>...</td>\n",
       "      <td>14.970000</td>\n",
       "      <td>25.410000</td>\n",
       "      <td>97.660000</td>\n",
       "      <td>686.500000</td>\n",
       "      <td>0.131300</td>\n",
       "      <td>0.211900</td>\n",
       "      <td>0.226700</td>\n",
       "      <td>0.099930</td>\n",
       "      <td>0.282200</td>\n",
       "      <td>0.080040</td>\n",
       "    </tr>\n",
       "    <tr>\n",
       "      <th>75%</th>\n",
       "      <td>8.813129e+06</td>\n",
       "      <td>15.780000</td>\n",
       "      <td>21.800000</td>\n",
       "      <td>104.100000</td>\n",
       "      <td>782.700000</td>\n",
       "      <td>0.105300</td>\n",
       "      <td>0.130400</td>\n",
       "      <td>0.130700</td>\n",
       "      <td>0.074000</td>\n",
       "      <td>0.195700</td>\n",
       "      <td>...</td>\n",
       "      <td>18.790000</td>\n",
       "      <td>29.720000</td>\n",
       "      <td>125.400000</td>\n",
       "      <td>1084.000000</td>\n",
       "      <td>0.146000</td>\n",
       "      <td>0.339100</td>\n",
       "      <td>0.382900</td>\n",
       "      <td>0.161400</td>\n",
       "      <td>0.317900</td>\n",
       "      <td>0.092080</td>\n",
       "    </tr>\n",
       "    <tr>\n",
       "      <th>max</th>\n",
       "      <td>9.113205e+08</td>\n",
       "      <td>28.110000</td>\n",
       "      <td>39.280000</td>\n",
       "      <td>188.500000</td>\n",
       "      <td>2501.000000</td>\n",
       "      <td>0.163400</td>\n",
       "      <td>0.345400</td>\n",
       "      <td>0.426800</td>\n",
       "      <td>0.201200</td>\n",
       "      <td>0.304000</td>\n",
       "      <td>...</td>\n",
       "      <td>36.040000</td>\n",
       "      <td>49.540000</td>\n",
       "      <td>251.200000</td>\n",
       "      <td>4254.000000</td>\n",
       "      <td>0.222600</td>\n",
       "      <td>1.058000</td>\n",
       "      <td>1.252000</td>\n",
       "      <td>0.291000</td>\n",
       "      <td>0.663800</td>\n",
       "      <td>0.207500</td>\n",
       "    </tr>\n",
       "  </tbody>\n",
       "</table>\n",
       "<p>8 rows × 31 columns</p>\n",
       "</div>"
      ],
      "text/plain": [
       "                 ID  radius_mean  radius_sd_error  radius_worst  texture_mean  \\\n",
       "count  5.690000e+02   569.000000       569.000000    569.000000    569.000000   \n",
       "mean   3.037183e+07    14.127292        19.289649     91.969033    654.889104   \n",
       "std    1.250206e+08     3.524049         4.301036     24.298981    351.914129   \n",
       "min    8.670000e+03     6.981000         9.710000     43.790000    143.500000   \n",
       "25%    8.692180e+05    11.700000        16.170000     75.170000    420.300000   \n",
       "50%    9.060240e+05    13.370000        18.840000     86.240000    551.100000   \n",
       "75%    8.813129e+06    15.780000        21.800000    104.100000    782.700000   \n",
       "max    9.113205e+08    28.110000        39.280000    188.500000   2501.000000   \n",
       "\n",
       "       texture_sd_error  texture_worst  perimeter_mean  perimeter_sd_error  \\\n",
       "count        569.000000     569.000000      569.000000          569.000000   \n",
       "mean           0.096360       0.104341        0.088799            0.048919   \n",
       "std            0.014064       0.052813        0.079720            0.038803   \n",
       "min            0.052630       0.019380        0.000000            0.000000   \n",
       "25%            0.086370       0.064920        0.029560            0.020310   \n",
       "50%            0.095870       0.092630        0.061540            0.033500   \n",
       "75%            0.105300       0.130400        0.130700            0.074000   \n",
       "max            0.163400       0.345400        0.426800            0.201200   \n",
       "\n",
       "       perimeter_worst  ...  concavity_worst  concave_points_mean  \\\n",
       "count       569.000000  ...       569.000000           569.000000   \n",
       "mean          0.181162  ...        16.269190            25.677223   \n",
       "std           0.027414  ...         4.833242             6.146258   \n",
       "min           0.106000  ...         7.930000            12.020000   \n",
       "25%           0.161900  ...        13.010000            21.080000   \n",
       "50%           0.179200  ...        14.970000            25.410000   \n",
       "75%           0.195700  ...        18.790000            29.720000   \n",
       "max           0.304000  ...        36.040000            49.540000   \n",
       "\n",
       "       concave_points_sd_error  concave_points_worst  symmetry_mean  \\\n",
       "count               569.000000            569.000000     569.000000   \n",
       "mean                107.261213            880.583128       0.132369   \n",
       "std                  33.602542            569.356993       0.022832   \n",
       "min                  50.410000            185.200000       0.071170   \n",
       "25%                  84.110000            515.300000       0.116600   \n",
       "50%                  97.660000            686.500000       0.131300   \n",
       "75%                 125.400000           1084.000000       0.146000   \n",
       "max                 251.200000           4254.000000       0.222600   \n",
       "\n",
       "       symmetry_sd_error  symmetry_worst  fractal_dimension_mean  \\\n",
       "count         569.000000      569.000000              569.000000   \n",
       "mean            0.254265        0.272188                0.114606   \n",
       "std             0.157336        0.208624                0.065732   \n",
       "min             0.027290        0.000000                0.000000   \n",
       "25%             0.147200        0.114500                0.064930   \n",
       "50%             0.211900        0.226700                0.099930   \n",
       "75%             0.339100        0.382900                0.161400   \n",
       "max             1.058000        1.252000                0.291000   \n",
       "\n",
       "       fractal_dimension_sd_error  fractal_dimension_worst  \n",
       "count                  569.000000               569.000000  \n",
       "mean                     0.290076                 0.083946  \n",
       "std                      0.061867                 0.018061  \n",
       "min                      0.156500                 0.055040  \n",
       "25%                      0.250400                 0.071460  \n",
       "50%                      0.282200                 0.080040  \n",
       "75%                      0.317900                 0.092080  \n",
       "max                      0.663800                 0.207500  \n",
       "\n",
       "[8 rows x 31 columns]"
      ]
     },
     "metadata": {},
     "output_type": "display_data"
    }
   ],
   "source": [
    "display(data.describe())"
   ]
  },
  {
   "cell_type": "markdown",
   "metadata": {},
   "source": [
    "Columns values are from different ranges, so the features usually should be normalized. Let's look at how the data are distributed."
   ]
  },
  {
   "cell_type": "code",
   "execution_count": 4,
   "metadata": {},
   "outputs": [
    {
     "data": {
      "text/plain": [
       "B    357\n",
       "M    212\n",
       "Name: diagnosis, dtype: int64"
      ]
     },
     "execution_count": 4,
     "metadata": {},
     "output_type": "execute_result"
    }
   ],
   "source": [
    "data.diagnosis.value_counts()"
   ]
  },
  {
   "cell_type": "markdown",
   "metadata": {},
   "source": [
    "So, there are two kinds of diagnoses. B means benign tumor, and M - malignant.\n",
    "Dataset is unbalanced, as the number of benign tumors higher than malignant more than 1.5 times.\n",
    "    \n",
    "Now, we need to compute the mean and median smoothness and compactness for benign and malignant tumors. Display the columns and split the data according to classes for convenience."
   ]
  },
  {
   "cell_type": "code",
   "execution_count": 5,
   "metadata": {
    "scrolled": true
   },
   "outputs": [
    {
     "data": {
      "text/html": [
       "<div>\n",
       "<style scoped>\n",
       "    .dataframe tbody tr th:only-of-type {\n",
       "        vertical-align: middle;\n",
       "    }\n",
       "\n",
       "    .dataframe tbody tr th {\n",
       "        vertical-align: top;\n",
       "    }\n",
       "\n",
       "    .dataframe thead th {\n",
       "        text-align: right;\n",
       "    }\n",
       "</style>\n",
       "<table border=\"1\" class=\"dataframe\">\n",
       "  <thead>\n",
       "    <tr style=\"text-align: right;\">\n",
       "      <th></th>\n",
       "      <th>smoothness_mean</th>\n",
       "      <th>smoothness_sd_error</th>\n",
       "      <th>smoothness_worst</th>\n",
       "    </tr>\n",
       "  </thead>\n",
       "  <tbody>\n",
       "    <tr>\n",
       "      <th>0</th>\n",
       "      <td>8.589</td>\n",
       "      <td>153.40</td>\n",
       "      <td>0.006399</td>\n",
       "    </tr>\n",
       "    <tr>\n",
       "      <th>1</th>\n",
       "      <td>3.398</td>\n",
       "      <td>74.08</td>\n",
       "      <td>0.005225</td>\n",
       "    </tr>\n",
       "    <tr>\n",
       "      <th>2</th>\n",
       "      <td>4.585</td>\n",
       "      <td>94.03</td>\n",
       "      <td>0.006150</td>\n",
       "    </tr>\n",
       "    <tr>\n",
       "      <th>3</th>\n",
       "      <td>3.445</td>\n",
       "      <td>27.23</td>\n",
       "      <td>0.009110</td>\n",
       "    </tr>\n",
       "    <tr>\n",
       "      <th>4</th>\n",
       "      <td>5.438</td>\n",
       "      <td>94.44</td>\n",
       "      <td>0.011490</td>\n",
       "    </tr>\n",
       "  </tbody>\n",
       "</table>\n",
       "</div>"
      ],
      "text/plain": [
       "   smoothness_mean  smoothness_sd_error  smoothness_worst\n",
       "0            8.589               153.40          0.006399\n",
       "1            3.398                74.08          0.005225\n",
       "2            4.585                94.03          0.006150\n",
       "3            3.445                27.23          0.009110\n",
       "4            5.438                94.44          0.011490"
      ]
     },
     "metadata": {},
     "output_type": "display_data"
    },
    {
     "data": {
      "text/html": [
       "<div>\n",
       "<style scoped>\n",
       "    .dataframe tbody tr th:only-of-type {\n",
       "        vertical-align: middle;\n",
       "    }\n",
       "\n",
       "    .dataframe tbody tr th {\n",
       "        vertical-align: top;\n",
       "    }\n",
       "\n",
       "    .dataframe thead th {\n",
       "        text-align: right;\n",
       "    }\n",
       "</style>\n",
       "<table border=\"1\" class=\"dataframe\">\n",
       "  <thead>\n",
       "    <tr style=\"text-align: right;\">\n",
       "      <th></th>\n",
       "      <th>compactness_mean</th>\n",
       "      <th>compactness_sd_error</th>\n",
       "      <th>compactness_worst</th>\n",
       "    </tr>\n",
       "  </thead>\n",
       "  <tbody>\n",
       "    <tr>\n",
       "      <th>0</th>\n",
       "      <td>0.04904</td>\n",
       "      <td>0.05373</td>\n",
       "      <td>0.01587</td>\n",
       "    </tr>\n",
       "    <tr>\n",
       "      <th>1</th>\n",
       "      <td>0.01308</td>\n",
       "      <td>0.01860</td>\n",
       "      <td>0.01340</td>\n",
       "    </tr>\n",
       "    <tr>\n",
       "      <th>2</th>\n",
       "      <td>0.04006</td>\n",
       "      <td>0.03832</td>\n",
       "      <td>0.02058</td>\n",
       "    </tr>\n",
       "    <tr>\n",
       "      <th>3</th>\n",
       "      <td>0.07458</td>\n",
       "      <td>0.05661</td>\n",
       "      <td>0.01867</td>\n",
       "    </tr>\n",
       "    <tr>\n",
       "      <th>4</th>\n",
       "      <td>0.02461</td>\n",
       "      <td>0.05688</td>\n",
       "      <td>0.01885</td>\n",
       "    </tr>\n",
       "  </tbody>\n",
       "</table>\n",
       "</div>"
      ],
      "text/plain": [
       "   compactness_mean  compactness_sd_error  compactness_worst\n",
       "0           0.04904               0.05373            0.01587\n",
       "1           0.01308               0.01860            0.01340\n",
       "2           0.04006               0.03832            0.02058\n",
       "3           0.07458               0.05661            0.01867\n",
       "4           0.02461               0.05688            0.01885"
      ]
     },
     "metadata": {},
     "output_type": "display_data"
    }
   ],
   "source": [
    "display(data.loc[:, data.columns.str.contains('smoothness')].head())\n",
    "display(data.loc[:, data.columns.str.contains('compactness')].head())"
   ]
  },
  {
   "cell_type": "markdown",
   "metadata": {},
   "source": [
    "Let's use `smoothness_mean` and `compactness_mean` for the task"
   ]
  },
  {
   "cell_type": "code",
   "execution_count": 6,
   "metadata": {},
   "outputs": [],
   "source": [
    "benign = data[data.diagnosis == 'B']\n",
    "malignant = data[data.diagnosis == 'M']"
   ]
  },
  {
   "cell_type": "code",
   "execution_count": 7,
   "metadata": {},
   "outputs": [
    {
     "name": "stdout",
     "output_type": "stream",
     "text": [
      "Benign smoothness:\n",
      "mean: 2.0003212885154062\n",
      "median: 1.851\n",
      "\n",
      "Malignant smoothness:\n",
      "mean: 4.3239292452830185\n",
      "median: 3.6795\n"
     ]
    }
   ],
   "source": [
    "print('Benign smoothness:')\n",
    "print('mean:', benign.smoothness_mean.mean())\n",
    "print('median:', benign.smoothness_mean.median())\n",
    "print('\\nMalignant smoothness:')\n",
    "print('mean:', malignant.smoothness_mean.mean())\n",
    "print('median:', malignant.smoothness_mean.median())"
   ]
  },
  {
   "cell_type": "markdown",
   "metadata": {},
   "source": [
    "The means and medians are different: the smoothness values of malignant tumors are higher. The medians for both are lower than the means, which can be caused by outliers."
   ]
  },
  {
   "cell_type": "code",
   "execution_count": 8,
   "metadata": {},
   "outputs": [
    {
     "name": "stdout",
     "output_type": "stream",
     "text": [
      "Benign compactness:\n",
      "mean: 0.021438246498599437\n",
      "median: 0.016309999999999998\n",
      "\n",
      "Malignant compactness:\n",
      "mean: 0.03228116509433963\n",
      "median: 0.02859\n"
     ]
    }
   ],
   "source": [
    "print('Benign compactness:')\n",
    "print('mean:', benign.compactness_mean.mean())\n",
    "print('median:', benign.compactness_mean.median())\n",
    "print('\\nMalignant compactness:')\n",
    "print('mean:', malignant.compactness_mean.mean())\n",
    "print('median:', malignant.compactness_mean.median())"
   ]
  },
  {
   "cell_type": "markdown",
   "metadata": {},
   "source": [
    "The same situation as above, except the values of compactness, which are closer to each other.\n",
    "We can plot the data to see its distribition"
   ]
  },
  {
   "cell_type": "code",
   "execution_count": 9,
   "metadata": {},
   "outputs": [
    {
     "data": {
      "text/plain": [
       "<AxesSubplot:title={'center':'compactness_mean'}, xlabel='diagnosis'>"
      ]
     },
     "execution_count": 9,
     "metadata": {},
     "output_type": "execute_result"
    },
    {
     "data": {
      "image/png": "[encoded data removed]",
      "text/plain": [
       "<Figure size 432x288 with 1 Axes>"
      ]
     },
     "metadata": {
      "needs_background": "light"
     },
     "output_type": "display_data"
    },
    {
     "data": {
      "image/png": "[encoded data removed]",
      "text/plain": [
       "<Figure size 432x288 with 1 Axes>"
      ]
     },
     "metadata": {
      "needs_background": "light"
     },
     "output_type": "display_data"
    }
   ],
   "source": [
    "data.boxplot('smoothness_mean', 'diagnosis')\n",
    "data.boxplot('compactness_mean', 'diagnosis')"
   ]
  },
  {
   "cell_type": "markdown",
   "metadata": {},
   "source": [
    "As you can see, the boxplots confirm our assumptions:\n",
    "- There are outliers for both groups \n",
    "- The benign `smoothness` values are more compact to each other\n",
    "\n",
    "- The `smoothness` of malignant tumors is more distributed and its outliers are much far from the main quartiles. \n",
    "- Distributions of `compactness` values for both groups look similar, malignant data is higher than benign"
   ]
  },
  {
   "cell_type": "markdown",
   "metadata": {},
   "source": [
    "Next step is the bootstraping function. Bootstrap is an approach that resamples a single dataset to create random samples with replacement (the same data point can appear more than once). Bootstrap allows us to estimate the entire population based on multiple samples."
   ]
  },
  {
   "cell_type": "code",
   "execution_count": 10,
   "metadata": {},
   "outputs": [
    {
     "data": {
      "text/plain": [
       "<AxesSubplot:title={'center':'smoothness_mean'}, xlabel='diagnosis'>"
      ]
     },
     "execution_count": 10,
     "metadata": {},
     "output_type": "execute_result"
    },
    {
     "data": {
      "image/png": "[encoded data removed]",
      "text/plain": [
       "<Figure size 432x288 with 1 Axes>"
      ]
     },
     "metadata": {
      "needs_background": "light"
     },
     "output_type": "display_data"
    }
   ],
   "source": [
    "def bootstrap_samples(data, n_data):\n",
    "    return data.sample(n_data, replace=True, random_state=2)\n",
    "    \n",
    "dataset = bootstrap_samples(data, len(data)*10)   \n",
    "dataset.boxplot('smoothness_mean', 'diagnosis')"
   ]
  },
  {
   "cell_type": "markdown",
   "metadata": {},
   "source": [
    "# Exploratory Analysis\n",
    "\n",
    "Tasks:\n",
    "- Identify 2-3 variables that are predictive of a malignant tumor.\n",
    "- Display the relationship visually and write 1-2 sentences explaining the relationship."
   ]
  },
  {
   "cell_type": "markdown",
   "metadata": {},
   "source": [
    "To identify the predictive variables we'll select best features according to the 3 highest scores. For that we'll do the following: drop unnecessary columns, normalize the data, use sklearn for feature extraction (using chi-squared metric)"
   ]
  },
  {
   "cell_type": "code",
   "execution_count": 11,
   "metadata": {},
   "outputs": [],
   "source": [
    "from sklearn import preprocessing\n",
    "from sklearn.feature_selection import SelectKBest\n",
    "from sklearn.feature_selection import chi2"
   ]
  },
  {
   "cell_type": "code",
   "execution_count": 12,
   "metadata": {},
   "outputs": [],
   "source": [
    "classes = data[\"diagnosis\"].astype('category')\n",
    "df = data.drop(['ID', 'diagnosis'], axis=1)"
   ]
  },
  {
   "cell_type": "code",
   "execution_count": 13,
   "metadata": {},
   "outputs": [
    {
     "data": {
      "text/html": [
       "<div>\n",
       "<style scoped>\n",
       "    .dataframe tbody tr th:only-of-type {\n",
       "        vertical-align: middle;\n",
       "    }\n",
       "\n",
       "    .dataframe tbody tr th {\n",
       "        vertical-align: top;\n",
       "    }\n",
       "\n",
       "    .dataframe thead th {\n",
       "        text-align: right;\n",
       "    }\n",
       "</style>\n",
       "<table border=\"1\" class=\"dataframe\">\n",
       "  <thead>\n",
       "    <tr style=\"text-align: right;\">\n",
       "      <th></th>\n",
       "      <th>radius_mean</th>\n",
       "      <th>radius_sd_error</th>\n",
       "      <th>radius_worst</th>\n",
       "      <th>texture_mean</th>\n",
       "      <th>texture_sd_error</th>\n",
       "      <th>texture_worst</th>\n",
       "      <th>perimeter_mean</th>\n",
       "      <th>perimeter_sd_error</th>\n",
       "      <th>perimeter_worst</th>\n",
       "      <th>area_mean</th>\n",
       "      <th>...</th>\n",
       "      <th>concavity_worst</th>\n",
       "      <th>concave_points_mean</th>\n",
       "      <th>concave_points_sd_error</th>\n",
       "      <th>concave_points_worst</th>\n",
       "      <th>symmetry_mean</th>\n",
       "      <th>symmetry_sd_error</th>\n",
       "      <th>symmetry_worst</th>\n",
       "      <th>fractal_dimension_mean</th>\n",
       "      <th>fractal_dimension_sd_error</th>\n",
       "      <th>fractal_dimension_worst</th>\n",
       "    </tr>\n",
       "  </thead>\n",
       "  <tbody>\n",
       "    <tr>\n",
       "      <th>0</th>\n",
       "      <td>0.007925</td>\n",
       "      <td>0.004573</td>\n",
       "      <td>0.054099</td>\n",
       "      <td>0.440986</td>\n",
       "      <td>0.000052</td>\n",
       "      <td>0.000122</td>\n",
       "      <td>0.000132</td>\n",
       "      <td>0.000065</td>\n",
       "      <td>0.000107</td>\n",
       "      <td>0.000035</td>\n",
       "      <td>...</td>\n",
       "      <td>0.011181</td>\n",
       "      <td>0.007635</td>\n",
       "      <td>0.081325</td>\n",
       "      <td>0.889462</td>\n",
       "      <td>0.000071</td>\n",
       "      <td>0.000293</td>\n",
       "      <td>0.000314</td>\n",
       "      <td>0.000117</td>\n",
       "      <td>0.000203</td>\n",
       "      <td>0.000052</td>\n",
       "    </tr>\n",
       "    <tr>\n",
       "      <th>1</th>\n",
       "      <td>0.008666</td>\n",
       "      <td>0.007486</td>\n",
       "      <td>0.055988</td>\n",
       "      <td>0.558619</td>\n",
       "      <td>0.000036</td>\n",
       "      <td>0.000033</td>\n",
       "      <td>0.000037</td>\n",
       "      <td>0.000030</td>\n",
       "      <td>0.000076</td>\n",
       "      <td>0.000024</td>\n",
       "      <td>...</td>\n",
       "      <td>0.010528</td>\n",
       "      <td>0.009862</td>\n",
       "      <td>0.066899</td>\n",
       "      <td>0.824026</td>\n",
       "      <td>0.000052</td>\n",
       "      <td>0.000079</td>\n",
       "      <td>0.000102</td>\n",
       "      <td>0.000078</td>\n",
       "      <td>0.000116</td>\n",
       "      <td>0.000038</td>\n",
       "    </tr>\n",
       "  </tbody>\n",
       "</table>\n",
       "<p>2 rows × 30 columns</p>\n",
       "</div>"
      ],
      "text/plain": [
       "   radius_mean  radius_sd_error  radius_worst  texture_mean  texture_sd_error  \\\n",
       "0     0.007925         0.004573      0.054099      0.440986          0.000052   \n",
       "1     0.008666         0.007486      0.055988      0.558619          0.000036   \n",
       "\n",
       "   texture_worst  perimeter_mean  perimeter_sd_error  perimeter_worst  \\\n",
       "0       0.000122        0.000132            0.000065         0.000107   \n",
       "1       0.000033        0.000037            0.000030         0.000076   \n",
       "\n",
       "   area_mean  ...  concavity_worst  concave_points_mean  \\\n",
       "0   0.000035  ...         0.011181             0.007635   \n",
       "1   0.000024  ...         0.010528             0.009862   \n",
       "\n",
       "   concave_points_sd_error  concave_points_worst  symmetry_mean  \\\n",
       "0                 0.081325              0.889462       0.000071   \n",
       "1                 0.066899              0.824026       0.000052   \n",
       "\n",
       "   symmetry_sd_error  symmetry_worst  fractal_dimension_mean  \\\n",
       "0           0.000293        0.000314                0.000117   \n",
       "1           0.000079        0.000102                0.000078   \n",
       "\n",
       "   fractal_dimension_sd_error  fractal_dimension_worst  \n",
       "0                    0.000203                 0.000052  \n",
       "1                    0.000116                 0.000038  \n",
       "\n",
       "[2 rows x 30 columns]"
      ]
     },
     "metadata": {},
     "output_type": "display_data"
    }
   ],
   "source": [
    "normalized_data = pd.DataFrame(preprocessing.normalize(df), columns=df.columns)\n",
    "display(normalized_data.head(2))"
   ]
  },
  {
   "cell_type": "code",
   "execution_count": 14,
   "metadata": {
    "scrolled": false
   },
   "outputs": [
    {
     "name": "stdout",
     "output_type": "stream",
     "text": [
      "Feature names Index(['radius_worst', 'concave_points_mean', 'concave_points_sd_error'], dtype='object')\n"
     ]
    },
    {
     "data": {
      "text/html": [
       "<div>\n",
       "<style scoped>\n",
       "    .dataframe tbody tr th:only-of-type {\n",
       "        vertical-align: middle;\n",
       "    }\n",
       "\n",
       "    .dataframe tbody tr th {\n",
       "        vertical-align: top;\n",
       "    }\n",
       "\n",
       "    .dataframe thead th {\n",
       "        text-align: right;\n",
       "    }\n",
       "</style>\n",
       "<table border=\"1\" class=\"dataframe\">\n",
       "  <thead>\n",
       "    <tr style=\"text-align: right;\">\n",
       "      <th></th>\n",
       "      <th>radius_worst</th>\n",
       "      <th>concave_points_mean</th>\n",
       "      <th>concave_points_sd_error</th>\n",
       "    </tr>\n",
       "  </thead>\n",
       "  <tbody>\n",
       "    <tr>\n",
       "      <th>0</th>\n",
       "      <td>122.8</td>\n",
       "      <td>17.33</td>\n",
       "      <td>184.6</td>\n",
       "    </tr>\n",
       "    <tr>\n",
       "      <th>1</th>\n",
       "      <td>132.9</td>\n",
       "      <td>23.41</td>\n",
       "      <td>158.8</td>\n",
       "    </tr>\n",
       "  </tbody>\n",
       "</table>\n",
       "</div>"
      ],
      "text/plain": [
       "   radius_worst  concave_points_mean  concave_points_sd_error\n",
       "0         122.8                17.33                    184.6\n",
       "1         132.9                23.41                    158.8"
      ]
     },
     "metadata": {},
     "output_type": "display_data"
    }
   ],
   "source": [
    "selector = SelectKBest(chi2, k=3)\n",
    "features = selector.fit_transform(normalized_data, classes)\n",
    "column_mask = selector.get_support()\n",
    "selected_features = normalized_data.columns[column_mask]\n",
    "print('Feature names', selected_features)\n",
    "display(df[selected_features].head(2))"
   ]
  },
  {
   "cell_type": "code",
   "execution_count": 15,
   "metadata": {},
   "outputs": [
    {
     "data": {
      "image/png": "[encoded data removed]",
      "text/plain": [
       "<Figure size 432x288 with 1 Axes>"
      ]
     },
     "metadata": {
      "needs_background": "light"
     },
     "output_type": "display_data"
    },
    {
     "data": {
      "image/png": "[encoded data removed]",
      "text/plain": [
       "<Figure size 432x288 with 1 Axes>"
      ]
     },
     "metadata": {
      "needs_background": "light"
     },
     "output_type": "display_data"
    },
    {
     "data": {
      "image/png": "[encoded data removed]",
      "text/plain": [
       "<Figure size 432x288 with 1 Axes>"
      ]
     },
     "metadata": {
      "needs_background": "light"
     },
     "output_type": "display_data"
    }
   ],
   "source": [
    "for feature in selected_features:\n",
    "    data.boxplot(feature, 'diagnosis')"
   ]
  },
  {
   "cell_type": "markdown",
   "metadata": {},
   "source": [
    "As the plots show, the values of selected features are quite distinguishable, which is good for the predicting task. Due to that, we can use linear algorithms for predicting the malignant tumors"
   ]
  },
  {
   "cell_type": "markdown",
   "metadata": {},
   "source": [
    "# Modeling\n",
    "\n",
    "Tasks:\n",
    "- Build a model to predict the malignant tumors.\n",
    "- Use at least two classification techniques; compare and contrast the advantages and disadvantages of each.\n",
    "- Identify how you would control for overfitting in each classification technique.\n",
    "- Evaluate the performance of each model.\n",
    "- In each model, identify the most important predictive variables and explain how you identified them."
   ]
  },
  {
   "cell_type": "code",
   "execution_count": 16,
   "metadata": {},
   "outputs": [],
   "source": [
    "from sklearn.preprocessing import StandardScaler\n",
    "from sklearn.svm import SVC\n",
    "from sklearn.neighbors import KNeighborsClassifier\n",
    "from sklearn.model_selection import train_test_split\n",
    "from sklearn.metrics import confusion_matrix"
   ]
  },
  {
   "cell_type": "code",
   "execution_count": 17,
   "metadata": {},
   "outputs": [
    {
     "data": {
      "text/html": [
       "<div>\n",
       "<style scoped>\n",
       "    .dataframe tbody tr th:only-of-type {\n",
       "        vertical-align: middle;\n",
       "    }\n",
       "\n",
       "    .dataframe tbody tr th {\n",
       "        vertical-align: top;\n",
       "    }\n",
       "\n",
       "    .dataframe thead th {\n",
       "        text-align: right;\n",
       "    }\n",
       "</style>\n",
       "<table border=\"1\" class=\"dataframe\">\n",
       "  <thead>\n",
       "    <tr style=\"text-align: right;\">\n",
       "      <th></th>\n",
       "      <th>radius_worst</th>\n",
       "      <th>concave_points_mean</th>\n",
       "      <th>concave_points_sd_error</th>\n",
       "      <th>diagnosis</th>\n",
       "    </tr>\n",
       "  </thead>\n",
       "  <tbody>\n",
       "    <tr>\n",
       "      <th>0</th>\n",
       "      <td>1.269934</td>\n",
       "      <td>-1.359293</td>\n",
       "      <td>2.303601</td>\n",
       "      <td>M</td>\n",
       "    </tr>\n",
       "    <tr>\n",
       "      <th>1</th>\n",
       "      <td>1.685955</td>\n",
       "      <td>-0.369203</td>\n",
       "      <td>1.535126</td>\n",
       "      <td>M</td>\n",
       "    </tr>\n",
       "  </tbody>\n",
       "</table>\n",
       "</div>"
      ],
      "text/plain": [
       "   radius_worst  concave_points_mean  concave_points_sd_error diagnosis\n",
       "0      1.269934            -1.359293                 2.303601         M\n",
       "1      1.685955            -0.369203                 1.535126         M"
      ]
     },
     "metadata": {},
     "output_type": "display_data"
    }
   ],
   "source": [
    "scaler = StandardScaler()\n",
    "\n",
    "scaled_data = scaler.fit_transform(data[selected_features])\n",
    "df = pd.DataFrame(scaled_data, columns=selected_features)\n",
    "df['diagnosis'] = data.diagnosis\n",
    "display(df.head(2))"
   ]
  },
  {
   "cell_type": "code",
   "execution_count": 18,
   "metadata": {},
   "outputs": [
    {
     "data": {
      "text/plain": [
       "<AxesSubplot:title={'center':'radius_worst'}, xlabel='diagnosis'>"
      ]
     },
     "execution_count": 18,
     "metadata": {},
     "output_type": "execute_result"
    },
    {
     "data": {
      "image/png": "[encoded data removed]",
      "text/plain": [
       "<Figure size 432x288 with 1 Axes>"
      ]
     },
     "metadata": {
      "needs_background": "light"
     },
     "output_type": "display_data"
    }
   ],
   "source": [
    "dataset = bootstrap_samples(df, 1000)   \n",
    "dataset.boxplot(selected_features[0], 'diagnosis')"
   ]
  },
  {
   "cell_type": "code",
   "execution_count": 19,
   "metadata": {},
   "outputs": [
    {
     "data": {
      "text/html": [
       "<div>\n",
       "<style scoped>\n",
       "    .dataframe tbody tr th:only-of-type {\n",
       "        vertical-align: middle;\n",
       "    }\n",
       "\n",
       "    .dataframe tbody tr th {\n",
       "        vertical-align: top;\n",
       "    }\n",
       "\n",
       "    .dataframe thead th {\n",
       "        text-align: right;\n",
       "    }\n",
       "</style>\n",
       "<table border=\"1\" class=\"dataframe\">\n",
       "  <thead>\n",
       "    <tr style=\"text-align: right;\">\n",
       "      <th></th>\n",
       "      <th>radius_worst</th>\n",
       "      <th>concave_points_mean</th>\n",
       "      <th>concave_points_sd_error</th>\n",
       "    </tr>\n",
       "  </thead>\n",
       "  <tbody>\n",
       "    <tr>\n",
       "      <th>168</th>\n",
       "      <td>0.993959</td>\n",
       "      <td>1.083363</td>\n",
       "      <td>1.430876</td>\n",
       "    </tr>\n",
       "    <tr>\n",
       "      <th>527</th>\n",
       "      <td>-0.536668</td>\n",
       "      <td>-1.043377</td>\n",
       "      <td>-0.596944</td>\n",
       "    </tr>\n",
       "  </tbody>\n",
       "</table>\n",
       "</div>"
      ],
      "text/plain": [
       "     radius_worst  concave_points_mean  concave_points_sd_error\n",
       "168      0.993959             1.083363                 1.430876\n",
       "527     -0.536668            -1.043377                -0.596944"
      ]
     },
     "metadata": {},
     "output_type": "display_data"
    }
   ],
   "source": [
    "classes = dataset[\"diagnosis\"].apply(lambda x: 1 if x == 'M' else 0)\n",
    "x = dataset.drop('diagnosis', axis=1)\n",
    "display(x.head(2))"
   ]
  },
  {
   "cell_type": "code",
   "execution_count": 20,
   "metadata": {},
   "outputs": [
    {
     "name": "stdout",
     "output_type": "stream",
     "text": [
      "800 train samples, 200 test samples\n"
     ]
    },
    {
     "data": {
      "text/plain": [
       "0    117\n",
       "1     83\n",
       "Name: diagnosis, dtype: int64"
      ]
     },
     "metadata": {},
     "output_type": "display_data"
    }
   ],
   "source": [
    "x_train, x_test, y_train, y_test = train_test_split(x, classes, test_size=0.2, random_state=0)\n",
    "print(f'{len(x_train)} train samples, {len(x_test)} test samples')\n",
    "display(y_test.value_counts())\n"
   ]
  },
  {
   "cell_type": "markdown",
   "metadata": {},
   "source": [
    "The first algorithm is C-Support Vector Classification implemented in sklearn. It can be used for an unbalanced dataset and allows adjusting C parameter to prevent overfitting (As we increase the value, we prefer more accurate separating of points to the larger gap between them, which raises chances to overfit the data). For choosing an optimal value, we should test it on different data samples (cross-validation). We'll set linear kernel (it also can prevent overfitting)"
   ]
  },
  {
   "cell_type": "code",
   "execution_count": 21,
   "metadata": {},
   "outputs": [
    {
     "name": "stdout",
     "output_type": "stream",
     "text": [
      "SVC accuracy\n",
      "- train data: 0.9525\n",
      "- test data: 0.975\n",
      "tn, fp, fn, tp - True benign, False malignant, False benign, True malignant\n",
      "[115   2   3  80]\n",
      "5 samples are mispredicted\n"
     ]
    }
   ],
   "source": [
    "clf = SVC(C=4, kernel='linear') #chose C=4, based on several runs\n",
    "clf.fit(x_train, y_train)\n",
    "\n",
    "preds = clf.predict(x_test)\n",
    "\n",
    "print(\"SVC accuracy\")\n",
    "print(\"- train data:\", clf.score(x_train, y_train)) \n",
    "print(\"- test data:\", clf.score(x_test, y_test)) \n",
    "print(\"tn, fp, fn, tp - True benign, False malignant, False benign, True malignant\")#negative=benign, positive=malignant\n",
    "cm = confusion_matrix(y_true=y_test, y_pred=preds)\n",
    "print(cm.ravel())\n",
    "\n",
    "tn, fp, fn, tp = cm.ravel()\n",
    "print(f'{fp+fn} samples are mispredicted')"
   ]
  },
  {
   "cell_type": "code",
   "execution_count": 22,
   "metadata": {},
   "outputs": [
    {
     "name": "stdout",
     "output_type": "stream",
     "text": [
      "False negative rate: 0.02564102564102564\n",
      "False positive rate: 0.024096385542168676\n",
      "f1-score = 0.9696969696969697\n",
      "precision = 0.975609756097561\n",
      "recall = 0.963855421686747\n"
     ]
    }
   ],
   "source": [
    "print('False negative rate:', fn/(fp+tn))\n",
    "print('False positive rate:', fp/(fn+tp))\n",
    "\n",
    "print('f1-score =', tp/(tp + (fp+fn)/2))\n",
    "print('precision =', tp/(tp + fp))\n",
    "print('recall =', tp/(tp + fn))"
   ]
  },
  {
   "cell_type": "markdown",
   "metadata": {},
   "source": [
    "The next algorithm is K-Nearest Neighbors Classifier implemented in sklearn as well. It allows adjusting the n_neighbors parameter to prevent overfitting (As we increase the number of neighbors, we increase accuracy; to high value make the model overfit)"
   ]
  },
  {
   "cell_type": "code",
   "execution_count": 23,
   "metadata": {},
   "outputs": [
    {
     "name": "stdout",
     "output_type": "stream",
     "text": [
      "K-Neighbors Classifier accuracy\n",
      "- train data: 0.9725\n",
      "- test data: 0.96\n",
      "tn, fp, fn, tp - True benign, False malignant, False benign, True malignant\n",
      "[117   0   8  75]\n",
      "8 samples are mispredicted\n"
     ]
    }
   ],
   "source": [
    "clf = KNeighborsClassifier(n_neighbors=4) #chose n_neighbors=4, based on several runs\n",
    "clf.fit(x_train, y_train)\n",
    "\n",
    "preds = clf.predict(x_test)\n",
    "\n",
    "print(\"K-Neighbors Classifier accuracy\")\n",
    "print(\"- train data:\", clf.score(x_train, y_train)) \n",
    "print(\"- test data:\", clf.score(x_test, y_test)) \n",
    "print(\"tn, fp, fn, tp - True benign, False malignant, False benign, True malignant\")#negative=benign, positive=malignant\n",
    "cm = confusion_matrix(y_true=y_test, y_pred=preds)\n",
    "print(cm.ravel())\n",
    "\n",
    "tn, fp, fn, tp = cm.ravel()\n",
    "print(f'{fp+fn} samples are mispredicted')"
   ]
  },
  {
   "cell_type": "code",
   "execution_count": 24,
   "metadata": {},
   "outputs": [
    {
     "name": "stdout",
     "output_type": "stream",
     "text": [
      "False negative rate: 0.06837606837606838\n",
      "False positive rate: 0.0\n",
      "f1-score = 0.9493670886075949\n",
      "precision = 1.0\n",
      "recall = 0.9036144578313253\n"
     ]
    }
   ],
   "source": [
    "print('False negative rate:', fn/(fp+tn))\n",
    "print('False positive rate:', fp/(fn+tp))\n",
    "\n",
    "print('f1-score =', tp/(tp + (fp+fn)/2))\n",
    "print('precision =', tp/(tp + fp))\n",
    "print('recall =', tp/(tp + fn))"
   ]
  },
  {
   "cell_type": "markdown",
   "metadata": {},
   "source": [
    "- Even though it seems both classifiers show similar accuracy, the results actually differ from each other.\n",
    "- KNN predicted all benign tumors, but gave 8 wrong diagnoses for malignant tumors.\n",
    "- SVC mispredicted less data (5 < 8), it gave wrong diagnoses for 2 patients with benign tumors and for 3 patients with malignant.\n",
    "- But it must be said, that accuracy depends on data sampling and splitting. To get different results, change random seeds in parameters of data sampling and splitting functions. Bootstrapping more data may increase accuracy as well.\n",
    "- In this case, SVC gave better results, as potentially more patients who need treatment get it. But it may differ from sample to samle\n",
    "- We should provide cross-validation to adjust the parameters and choose the most optimal for the problem algorithm. Optimality can be estimated using accuracy, f1-score, number of tp, tn, fn, fp and other statistical metrics"
   ]
  },
  {
   "cell_type": "markdown",
   "metadata": {},
   "source": [
    "# Explanation\n",
    "\n",
    "## To Technical Audiences\n",
    "\n",
    "On the current data sampling:\n",
    "\n",
    "    SVC: f1-score=0.970, false negative rate = 0.026, false positive rate: 0.024\n",
    "\n",
    "    KNN: f1-score=0.950, false negative rate = 0.068, false positive rate: 0.0\n",
    "\n",
    "The further steps:\n",
    "\n",
    "    Provide more tests on:\n",
    "        - balanced data (use class weights)\n",
    "        - different hyperparameters\n",
    "        \n",
    "    Crossvalidation is necessary.\n",
    "    \n",
    "\n",
    "## To Non-Technical Audiences\n",
    "\n",
    "- Here we compared two machine learning algorithms for prediction malignant tumors using different tumor shape parameters, such as radius and concavity.\n",
    "- Both algorithms take our data points (we've selected 3 best features) and its labels (identifying each data point as a malignant or not malignant (benign) tumor) and learn what point is what. When the trained model gets a new datapoint, the model can predict what group it corresponds to: malignant or benign.\n",
    "- The first algorithm (SVC) separates the groups by searching a line that best separates the different classes. It classifies the data depending on which side of the line it falls.\n",
    "- The next one (K-neighbors) classifies the data by computing distance to the groups: which group is closer to the point that is the class it corresponds to. \n",
    "- Using these algorithms we are able to achieve 95% of true predictions and probably increase the accuracy by adjusting initial data and algorithms' parameters."
   ]
  },
  {
   "cell_type": "markdown",
   "metadata": {},
   "source": [
    "# DSI Instructor Task: Part 2\n",
    "\n",
    "Student Samples: https://gist.github.com/jeff-boykin/3af5e25eabd6c10d8aa248c556f625a0\n",
    "\n",
    "Code\n",
    "- Feel free to comment on style, library usage, or other improvements.\n",
    "\n",
    "Methodology\n",
    "- Feel free to comment on the student's data setup, modeling methodology, and model evaluation.\n",
    "\n",
    "Conceptual Understanding\n",
    "- Finally, feel free to add any suggestions or takeaways on how the student could continue to improve their understanding of these concepts."
   ]
  },
  {
   "cell_type": "markdown",
   "metadata": {},
   "source": [
    "\n",
    "Student 1\n",
    "- Imports are always put at the top of the file\n",
    "- Importing unnecessary libraries\n",
    "- Wrong import of LinearRegression (should be: from sklearn.linear_model import LinearRegression)\n",
    "- Wrong import of cross_val_score() (should be: from sklearn.model_selection import cross_val_score)\n",
    "- Variable names don't make sense\n",
    "- Using different name for the loaded file (d->data)\n",
    "- Wrong order of parameters in cross_val_score (x1<->x2)\n",
    "- 'mean_absolute_error' is not a valid scoring value\n",
    "- Using cv=1 in cross_val_score() doesn't make sense\n",
    "- Should be more attentive and learn more about naming and other standarts in Python, using methods and its parameters, concepts of crossvalidation\n",
    "\n",
    "Student 2\n",
    "- Importing unnecessary libraries\n",
    "- Wrong import of cross_val_score() (should be: from sklearn.model_selection import cross_val_score)\n",
    "- Variable names should be lowercase\n",
    "- 'mean_absolute_error' can't be set as scoring value\n",
    "- Should be also more attentive and learn more about naming and other standarts in Python\n"
   ]
  }
 ],
 "metadata": {
  "kernelspec": {
   "display_name": "Python 3",
   "language": "python",
   "name": "python3"
  },
  "language_info": {
   "codemirror_mode": {
    "name": "ipython",
    "version": 3
   },
   "file_extension": ".py",
   "mimetype": "text/x-python",
   "name": "python",
   "nbconvert_exporter": "python",
   "pygments_lexer": "ipython3",
   "version": "3.6.9"
  },
  "toc": {
   "base_numbering": 1,
   "nav_menu": {},
   "number_sections": true,
   "sideBar": true,
   "skip_h1_title": false,
   "title_cell": "Table of Contents",
   "title_sidebar": "Contents",
   "toc_cell": false,
   "toc_position": {
    "height": "calc(100% - 180px)",
    "left": "10px",
    "top": "150px",
    "width": "296.475px"
   },
   "toc_section_display": true,
   "toc_window_display": true
  }
 },
 "nbformat": 4,
 "nbformat_minor": 4
}
