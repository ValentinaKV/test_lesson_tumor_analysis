{
 "cells": [
  {
   "cell_type": "markdown",
   "metadata": {},
   "source": [
    "## Modelling\n",
    "\n",
    "Tasks:\n",
    "- Build a model to predict the malignant tumors.\n",
    "- Use at least two classification techniques; compare and contrast the advantages and disadvantages of each.\n",
    "- Identify how we would control for overfitting in each classification technique.\n",
    "- Evaluate the performance of each model.\n",
    "- In each model, identify the most important predictive variables and explain how we identified them."
   ]
  },
  {
   "cell_type": "code",
   "execution_count": 1,
   "metadata": {},
   "outputs": [],
   "source": [
    "from sklearn.preprocessing import StandardScaler\n",
    "from sklearn.svm import SVC\n",
    "from sklearn.neighbors import KNeighborsClassifier\n",
    "from sklearn.model_selection import train_test_split\n",
    "from sklearn.metrics import confusion_matrix\n",
    "from sklearn import preprocessing\n",
    "\n",
    "import helper\n",
    "import pandas as pd"
   ]
  },
  {
   "cell_type": "markdown",
   "metadata": {},
   "source": [
    "Let's load the data to select best features to distinguish two classes (`B` and `M`) with the same preprocessing as in the previous notebook"
   ]
  },
  {
   "cell_type": "code",
   "execution_count": 2,
   "metadata": {},
   "outputs": [
    {
     "data": {
      "text/plain": [
       "Index(['radius_worst', 'concave_points_mean', 'concave_points_sd_error'], dtype='object')"
      ]
     },
     "execution_count": 2,
     "metadata": {},
     "output_type": "execute_result"
    }
   ],
   "source": [
    "data = helper.load_data()\n",
    "classes = data[\"diagnosis\"].astype('category')\n",
    "\n",
    "df = data.drop(['ID', 'diagnosis'], axis=1)\n",
    "#select_features requires non-negative values\n",
    "normalized_values = preprocessing.normalize(df)\n",
    "normalized_df = pd.DataFrame(normalized_values, columns=df.columns)\n",
    "\n",
    "selected_features = helper.select_features(normalized_df, classes)\n",
    "selected_features"
   ]
  },
  {
   "cell_type": "markdown",
   "metadata": {},
   "source": [
    "Since the data distributed by normal-like distribution, we can use `StandartScaler`"
   ]
  },
  {
   "cell_type": "code",
   "execution_count": 3,
   "metadata": {},
   "outputs": [
    {
     "data": {
      "text/html": [
       "<div>\n",
       "<style scoped>\n",
       "    .dataframe tbody tr th:only-of-type {\n",
       "        vertical-align: middle;\n",
       "    }\n",
       "\n",
       "    .dataframe tbody tr th {\n",
       "        vertical-align: top;\n",
       "    }\n",
       "\n",
       "    .dataframe thead th {\n",
       "        text-align: right;\n",
       "    }\n",
       "</style>\n",
       "<table border=\"1\" class=\"dataframe\">\n",
       "  <thead>\n",
       "    <tr style=\"text-align: right;\">\n",
       "      <th></th>\n",
       "      <th>radius_worst</th>\n",
       "      <th>concave_points_mean</th>\n",
       "      <th>concave_points_sd_error</th>\n",
       "      <th>diagnosis</th>\n",
       "    </tr>\n",
       "  </thead>\n",
       "  <tbody>\n",
       "    <tr>\n",
       "      <th>0</th>\n",
       "      <td>1.269934</td>\n",
       "      <td>-1.359293</td>\n",
       "      <td>2.303601</td>\n",
       "      <td>M</td>\n",
       "    </tr>\n",
       "    <tr>\n",
       "      <th>1</th>\n",
       "      <td>1.685955</td>\n",
       "      <td>-0.369203</td>\n",
       "      <td>1.535126</td>\n",
       "      <td>M</td>\n",
       "    </tr>\n",
       "  </tbody>\n",
       "</table>\n",
       "</div>"
      ],
      "text/plain": [
       "   radius_worst  concave_points_mean  concave_points_sd_error diagnosis\n",
       "0      1.269934            -1.359293                 2.303601         M\n",
       "1      1.685955            -0.369203                 1.535126         M"
      ]
     },
     "metadata": {},
     "output_type": "display_data"
    }
   ],
   "source": [
    "scaler = StandardScaler()\n",
    "\n",
    "scaled_data = scaler.fit_transform(data[selected_features])\n",
    "df = pd.DataFrame(scaled_data, columns=selected_features)\n",
    "df['diagnosis'] = data.diagnosis\n",
    "display(df.head(2))"
   ]
  },
  {
   "cell_type": "markdown",
   "metadata": {},
   "source": [
    "We'll use bootstrap samples to inflate the dataset"
   ]
  },
  {
   "cell_type": "code",
   "execution_count": 4,
   "metadata": {},
   "outputs": [
    {
     "data": {
      "text/plain": [
       "<AxesSubplot:title={'center':'radius_worst'}, xlabel='diagnosis'>"
      ]
     },
     "execution_count": 4,
     "metadata": {},
     "output_type": "execute_result"
    },
    {
     "data": {
      "image/png": "[encoded data removed]",
      "text/plain": [
       "<Figure size 432x288 with 1 Axes>"
      ]
     },
     "metadata": {
      "needs_background": "light"
     },
     "output_type": "display_data"
    }
   ],
   "source": [
    "dataset = helper.bootstrap_df(df, 1000)   \n",
    "dataset.boxplot(selected_features[0], 'diagnosis')"
   ]
  },
  {
   "cell_type": "code",
   "execution_count": 5,
   "metadata": {},
   "outputs": [
    {
     "data": {
      "text/html": [
       "<div>\n",
       "<style scoped>\n",
       "    .dataframe tbody tr th:only-of-type {\n",
       "        vertical-align: middle;\n",
       "    }\n",
       "\n",
       "    .dataframe tbody tr th {\n",
       "        vertical-align: top;\n",
       "    }\n",
       "\n",
       "    .dataframe thead th {\n",
       "        text-align: right;\n",
       "    }\n",
       "</style>\n",
       "<table border=\"1\" class=\"dataframe\">\n",
       "  <thead>\n",
       "    <tr style=\"text-align: right;\">\n",
       "      <th></th>\n",
       "      <th>radius_worst</th>\n",
       "      <th>concave_points_mean</th>\n",
       "      <th>concave_points_sd_error</th>\n",
       "    </tr>\n",
       "  </thead>\n",
       "  <tbody>\n",
       "    <tr>\n",
       "      <th>168</th>\n",
       "      <td>0.993959</td>\n",
       "      <td>1.083363</td>\n",
       "      <td>1.430876</td>\n",
       "    </tr>\n",
       "    <tr>\n",
       "      <th>527</th>\n",
       "      <td>-0.536668</td>\n",
       "      <td>-1.043377</td>\n",
       "      <td>-0.596944</td>\n",
       "    </tr>\n",
       "  </tbody>\n",
       "</table>\n",
       "</div>"
      ],
      "text/plain": [
       "     radius_worst  concave_points_mean  concave_points_sd_error\n",
       "168      0.993959             1.083363                 1.430876\n",
       "527     -0.536668            -1.043377                -0.596944"
      ]
     },
     "metadata": {},
     "output_type": "display_data"
    }
   ],
   "source": [
    "classes = dataset[\"diagnosis\"].apply(lambda x: 1 if x == 'M' else 0)\n",
    "x = dataset.drop('diagnosis', axis=1)\n",
    "display(x.head(2))"
   ]
  },
  {
   "cell_type": "code",
   "execution_count": 6,
   "metadata": {},
   "outputs": [
    {
     "name": "stdout",
     "output_type": "stream",
     "text": [
      "800 train samples, 200 test samples\n"
     ]
    },
    {
     "data": {
      "text/plain": [
       "0    117\n",
       "1     83\n",
       "Name: diagnosis, dtype: int64"
      ]
     },
     "metadata": {},
     "output_type": "display_data"
    }
   ],
   "source": [
    "x_train, x_test, y_train, y_test = train_test_split(x, classes, test_size=0.2, random_state=0)\n",
    "print(f'{len(x_train)} train samples, {len(x_test)} test samples')\n",
    "display(y_test.value_counts())"
   ]
  },
  {
   "cell_type": "markdown",
   "metadata": {},
   "source": [
    "The first algorithm is C-Support Vector Classification implemented in sklearn. It can be used for an unbalanced dataset and allows adjusting C parameter to prevent overfitting (As we increase the value, we prefer more accurate separating of points to the larger gap between them, which raises chances to overfit the data). For choosing an optimal value, we should test it on different data samples (cross-validation). We'll set linear kernel (it also can prevent overfitting)"
   ]
  },
  {
   "cell_type": "code",
   "execution_count": 7,
   "metadata": {},
   "outputs": [
    {
     "name": "stdout",
     "output_type": "stream",
     "text": [
      "SVC accuracy\n",
      "- train data: 0.9525\n",
      "- test data: 0.975\n",
      "tn, fp, fn, tp - True benign, False malignant, False benign, True malignant\n",
      "[115   2   3  80]\n",
      "5 samples are mispredicted\n"
     ]
    }
   ],
   "source": [
    "clf = SVC(C=4, kernel='linear') #chose C=4, based on several runs\n",
    "clf.fit(x_train, y_train)\n",
    "\n",
    "preds = clf.predict(x_test)\n",
    "\n",
    "print(\"SVC accuracy\")\n",
    "print(\"- train data:\", clf.score(x_train, y_train)) \n",
    "print(\"- test data:\", clf.score(x_test, y_test)) \n",
    "print(\"tn, fp, fn, tp - True benign, False malignant, False benign, True malignant\")#negative=benign, positive=malignant\n",
    "cm = confusion_matrix(y_true=y_test, y_pred=preds)\n",
    "print(cm.ravel())\n",
    "\n",
    "tn, fp, fn, tp = cm.ravel()\n",
    "print(f'{fp+fn} samples are mispredicted')"
   ]
  },
  {
   "cell_type": "code",
   "execution_count": 8,
   "metadata": {},
   "outputs": [
    {
     "name": "stdout",
     "output_type": "stream",
     "text": [
      "False negative rate: 0.02564102564102564\n",
      "False positive rate: 0.024096385542168676\n",
      "f1-score = 0.9696969696969697\n",
      "precision = 0.975609756097561\n",
      "recall = 0.963855421686747\n"
     ]
    }
   ],
   "source": [
    "print('False negative rate:', fn/(fp+tn))\n",
    "print('False positive rate:', fp/(fn+tp))\n",
    "\n",
    "print('f1-score =', tp/(tp + (fp+fn)/2))\n",
    "print('precision =', tp/(tp + fp))\n",
    "print('recall =', tp/(tp + fn))"
   ]
  },
  {
   "cell_type": "markdown",
   "metadata": {},
   "source": [
    "The next algorithm is K-Nearest Neighbors Classifier implemented in sklearn as well. It allows adjusting the n_neighbors parameter to prevent overfitting (As we increase the number of neighbors, we increase accuracy; to high value make the model overfit)"
   ]
  },
  {
   "cell_type": "code",
   "execution_count": 9,
   "metadata": {},
   "outputs": [
    {
     "name": "stdout",
     "output_type": "stream",
     "text": [
      "K-Neighbors Classifier accuracy\n",
      "- train data: 0.9725\n",
      "- test data: 0.96\n",
      "tn, fp, fn, tp - True benign, False malignant, False benign, True malignant\n",
      "[117   0   8  75]\n",
      "8 samples are mispredicted\n"
     ]
    }
   ],
   "source": [
    "clf = KNeighborsClassifier(n_neighbors=4) #chose n_neighbors=4, based on several runs\n",
    "clf.fit(x_train, y_train)\n",
    "\n",
    "preds = clf.predict(x_test)\n",
    "\n",
    "print(\"K-Neighbors Classifier accuracy\")\n",
    "print(\"- train data:\", clf.score(x_train, y_train)) \n",
    "print(\"- test data:\", clf.score(x_test, y_test)) \n",
    "print(\"tn, fp, fn, tp - True benign, False malignant, False benign, True malignant\")#negative=benign, positive=malignant\n",
    "cm = confusion_matrix(y_true=y_test, y_pred=preds)\n",
    "print(cm.ravel())\n",
    "\n",
    "tn, fp, fn, tp = cm.ravel()\n",
    "print(f'{fp+fn} samples are mispredicted')"
   ]
  },
  {
   "cell_type": "code",
   "execution_count": 10,
   "metadata": {},
   "outputs": [
    {
     "name": "stdout",
     "output_type": "stream",
     "text": [
      "False negative rate: 0.06837606837606838\n",
      "False positive rate: 0.0\n",
      "f1-score = 0.9493670886075949\n",
      "precision = 1.0\n",
      "recall = 0.9036144578313253\n"
     ]
    }
   ],
   "source": [
    "print('False negative rate:', fn/(fp+tn))\n",
    "print('False positive rate:', fp/(fn+tp))\n",
    "\n",
    "print('f1-score =', tp/(tp + (fp+fn)/2))\n",
    "print('precision =', tp/(tp + fp))\n",
    "print('recall =', tp/(tp + fn))"
   ]
  },
  {
   "cell_type": "markdown",
   "metadata": {},
   "source": [
    "- It must be said, that accuracy depends on data sampling and splitting. To get different results, change random seeds in parameters of data sampling and splitting functions. Bootstrapping more data may increase accuracy as well.\n",
    "- In this case, SVC gave better results, as potentially more patients who need treatment get it. But it may differ from sample to samle\n",
    "- We should provide cross-validation to adjust the parameters and choose the most optimal for the problem algorithm. Optimality can be estimated using accuracy, f1-score, number of tp, tn, fn, fp and other statistical metrics"
   ]
  },
  {
   "cell_type": "markdown",
   "metadata": {},
   "source": [
    "# Explanation\n",
    "\n",
    "## To Technical Audiences\n",
    "\n",
    "On the current data sampling:\n",
    "\n",
    "SVC: f1-score=0.970, false negative rate = 0.026, false positive rate: 0.024\n",
    "\n",
    "KNN: f1-score=0.950, false negative rate = 0.068, false positive rate: 0.0\n",
    "\n",
    "The further steps:\n",
    "\n",
    "Provide more tests on:\n",
    "    - balanced data (use class weights)\n",
    "    - different hyperparameters\n",
    "\n",
    "The dataset is relatively small, crossvalidation might be necessary.\n",
    "    \n",
    "\n",
    "## To Non-Technical Audiences\n",
    "\n",
    "- We trained and compared two machine learning algorithms.\n",
    "- The trained model gets a datapoint and predicts to which group the record belongs to: malignant or benign. \n",
    "- Even though it seems both classifiers show similar accuracy, the results actually differ from each other.\n",
    "- KNN predicted all benign tumors, but gave 8 wrong diagnoses for malignant tumors.\n",
    "- SVC mispredicted less malignant records (3 < 8).\n",
    "- Using these algorithms we are able to achieve 95% of true predictions and probably increase the accuracy by adjusting initial data and algorithms' parameters."
   ]
  }
 ],
 "metadata": {
  "kernelspec": {
   "display_name": "Python 3",
   "language": "python",
   "name": "python3"
  },
  "language_info": {
   "codemirror_mode": {
    "name": "ipython",
    "version": 3
   },
   "file_extension": ".py",
   "mimetype": "text/x-python",
   "name": "python",
   "nbconvert_exporter": "python",
   "pygments_lexer": "ipython3",
   "version": "3.6.9"
  },
  "toc": {
   "base_numbering": "",
   "nav_menu": {},
   "number_sections": false,
   "sideBar": true,
   "skip_h1_title": false,
   "title_cell": "Table of Contents",
   "title_sidebar": "Contents",
   "toc_cell": false,
   "toc_position": {
    "height": "calc(100% - 180px)",
    "left": "10px",
    "top": "150px",
    "width": "296.475px"
   },
   "toc_section_display": true,
   "toc_window_display": true
  }
 },
 "nbformat": 4,
 "nbformat_minor": 4
}
